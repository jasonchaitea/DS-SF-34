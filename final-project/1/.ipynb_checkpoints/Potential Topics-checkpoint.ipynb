{
 "cells": [
  {
   "cell_type": "markdown",
   "metadata": {},
   "source": [
    "# Potential Topic #1"
   ]
  },
  {
   "cell_type": "markdown",
   "metadata": {},
   "source": [
    " Finding out why employees are leaving prematurely"
   ]
  },
  {
   "cell_type": "markdown",
   "metadata": {},
   "source": [
    "# Problem"
   ]
  },
  {
   "cell_type": "markdown",
   "metadata": {},
   "source": [
    "Why do the best and most experiences employees leave prematurely?\n",
    "\n",
    "Or is there an identifier to tell us when an employee may leave?"
   ]
  },
  {
   "cell_type": "markdown",
   "metadata": {},
   "source": [
    "# Data"
   ]
  },
  {
   "cell_type": "markdown",
   "metadata": {},
   "source": [
    "Dataset can be easily obtained at Kaggle\n",
    "\n",
    "Fields within the dataset include:\n",
    "    - Last Evaluation\n",
    "    - Number of projects\n",
    "    - Time spent at the company\n",
    "    - Salary\n",
    "    - Department"
   ]
  },
  {
   "cell_type": "markdown",
   "metadata": {},
   "source": [
    "# Hypothesis"
   ]
  },
  {
   "cell_type": "markdown",
   "metadata": {},
   "source": [
    "We will be able to figure out when the employee may leave based off of their satisfaction level, number of projects they have, the average monthly hours, if they have received a promotion, and their salary level.\n"
   ]
  },
  {
   "cell_type": "markdown",
   "metadata": {},
   "source": [
    "# Potential Topic #2"
   ]
  },
  {
   "cell_type": "markdown",
   "metadata": {},
   "source": [
    "What Makes People Happy?"
   ]
  },
  {
   "cell_type": "markdown",
   "metadata": {},
   "source": [
    "# Problem"
   ]
  },
  {
   "cell_type": "markdown",
   "metadata": {},
   "source": [
    "There are many people who are not happy with where they are in life, but could this correlate to where they are living and how much freedom they have? Or could it correlate to their family and how much they trust their government?\n",
    "\n",
    "\n",
    "What is causing regions to go up or down in happiness levels?\n"
   ]
  },
  {
   "cell_type": "markdown",
   "metadata": {},
   "source": [
    "# Data"
   ]
  },
  {
   "cell_type": "markdown",
   "metadata": {},
   "source": [
    "Dataset is obtained through Kaggle, which was previously obtained from the Gallup World Poll.\n",
    "\n",
    "Data points include:\n",
    "    - Region\n",
    "    - Happiness Rank\n",
    "    - Economy\n",
    "    - Freedom\n",
    "    - Generosity\n"
   ]
  },
  {
   "cell_type": "markdown",
   "metadata": {},
   "source": [
    "# Hypothesis"
   ]
  },
  {
   "cell_type": "markdown",
   "metadata": {},
   "source": [
    "If more people had more freedom, and also lived in a region where the people were generally happier, then individuals who move there could potentially be happier\n"
   ]
  },
  {
   "cell_type": "markdown",
   "metadata": {},
   "source": [
    "# Potential Topic #3"
   ]
  },
  {
   "cell_type": "markdown",
   "metadata": {},
   "source": [
    "What Kind of Board Game Should we Try to Make?\n"
   ]
  },
  {
   "cell_type": "markdown",
   "metadata": {},
   "source": [
    "# Problem"
   ]
  },
  {
   "cell_type": "markdown",
   "metadata": {},
   "source": [
    "With so many different types of board games out in the market, it can be hard to decide what the general population is looking for in a board game\n"
   ]
  },
  {
   "cell_type": "markdown",
   "metadata": {},
   "source": [
    "# Data"
   ]
  },
  {
   "cell_type": "markdown",
   "metadata": {},
   "source": [
    "All of the data is from Board Game Geek, which is downloadable from Kaggle.\n",
    "\n",
    "Field includes:\n",
    "    - Rank\n",
    "    - Avg_time\n",
    "    - Year\n",
    "    - Avg_rating\n",
    "    - Geek_rating\n"
   ]
  },
  {
   "cell_type": "markdown",
   "metadata": {},
   "source": [
    "# Hypothesis"
   ]
  },
  {
   "cell_type": "markdown",
   "metadata": {},
   "source": [
    "If we can figure out what is the general trend is for board games, we can then figure out what type of board game to create next. \n",
    "\n",
    "\n",
    "Based off of the ranking, rating, weight (the lower, the easier) and year, could we figure out which board games are going to sell and be popular for a long time?\n"
   ]
  }
 ],
 "metadata": {
  "kernelspec": {
   "display_name": "Python 2",
   "language": "python",
   "name": "python2"
  },
  "language_info": {
   "codemirror_mode": {
    "name": "ipython",
    "version": 2
   },
   "file_extension": ".py",
   "mimetype": "text/x-python",
   "name": "python",
   "nbconvert_exporter": "python",
   "pygments_lexer": "ipython2",
   "version": "2.7.13"
  }
 },
 "nbformat": 4,
 "nbformat_minor": 2
}
